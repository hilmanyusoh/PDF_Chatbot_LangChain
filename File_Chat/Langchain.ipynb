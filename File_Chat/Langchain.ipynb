{
 "cells": [
  {
   "cell_type": "code",
   "execution_count": 1,
   "metadata": {},
   "outputs": [],
   "source": [
    "from langchain_community.document_loaders import PyPDFLoader\n",
    "from langchain_community.document_loaders import PyPDFDirectoryLoader\n",
    "from langchain.text_splitter import RecursiveCharacterTextSplitter\n",
    "from langchain_community.vectorstores import FAISS\n",
    "\n",
    "from langchain_community.embeddings import HuggingFaceBgeEmbeddings\n",
    "from langchain.prompts import PromptTemplate\n",
    "\n",
    "from langchain.chains import RetrievalQA\n",
    "\n"
   ]
  },
  {
   "cell_type": "code",
   "execution_count": 2,
   "metadata": {},
   "outputs": [
    {
     "ename": "EmptyDataError",
     "evalue": "No columns to parse from file",
     "output_type": "error",
     "traceback": [
      "\u001b[0;31m---------------------------------------------------------------------------\u001b[0m",
      "\u001b[0;31mEmptyDataError\u001b[0m                            Traceback (most recent call last)",
      "Cell \u001b[0;32mIn[2], line 5\u001b[0m\n\u001b[1;32m      3\u001b[0m \u001b[38;5;66;03m# Load the CSV file\u001b[39;00m\n\u001b[1;32m      4\u001b[0m data_file \u001b[38;5;241m=\u001b[39m \u001b[38;5;124m\"\u001b[39m\u001b[38;5;124mhadith_data.csv\u001b[39m\u001b[38;5;124m\"\u001b[39m\n\u001b[0;32m----> 5\u001b[0m df \u001b[38;5;241m=\u001b[39m pd\u001b[38;5;241m.\u001b[39mread_csv(data_file)\n\u001b[1;32m      7\u001b[0m \u001b[38;5;66;03m# Extract the \"Hadith Text\" column\u001b[39;00m\n\u001b[1;32m      8\u001b[0m hadith_texts \u001b[38;5;241m=\u001b[39m df[\u001b[38;5;124m\"\u001b[39m\u001b[38;5;124mHadith Text\u001b[39m\u001b[38;5;124m\"\u001b[39m]\u001b[38;5;241m.\u001b[39mdropna()\u001b[38;5;241m.\u001b[39mtolist()\n",
      "File \u001b[0;32m~/anaconda3/lib/python3.11/site-packages/pandas/io/parsers/readers.py:1026\u001b[0m, in \u001b[0;36mread_csv\u001b[0;34m(filepath_or_buffer, sep, delimiter, header, names, index_col, usecols, dtype, engine, converters, true_values, false_values, skipinitialspace, skiprows, skipfooter, nrows, na_values, keep_default_na, na_filter, verbose, skip_blank_lines, parse_dates, infer_datetime_format, keep_date_col, date_parser, date_format, dayfirst, cache_dates, iterator, chunksize, compression, thousands, decimal, lineterminator, quotechar, quoting, doublequote, escapechar, comment, encoding, encoding_errors, dialect, on_bad_lines, delim_whitespace, low_memory, memory_map, float_precision, storage_options, dtype_backend)\u001b[0m\n\u001b[1;32m   1013\u001b[0m kwds_defaults \u001b[38;5;241m=\u001b[39m _refine_defaults_read(\n\u001b[1;32m   1014\u001b[0m     dialect,\n\u001b[1;32m   1015\u001b[0m     delimiter,\n\u001b[0;32m   (...)\u001b[0m\n\u001b[1;32m   1022\u001b[0m     dtype_backend\u001b[38;5;241m=\u001b[39mdtype_backend,\n\u001b[1;32m   1023\u001b[0m )\n\u001b[1;32m   1024\u001b[0m kwds\u001b[38;5;241m.\u001b[39mupdate(kwds_defaults)\n\u001b[0;32m-> 1026\u001b[0m \u001b[38;5;28;01mreturn\u001b[39;00m _read(filepath_or_buffer, kwds)\n",
      "File \u001b[0;32m~/anaconda3/lib/python3.11/site-packages/pandas/io/parsers/readers.py:620\u001b[0m, in \u001b[0;36m_read\u001b[0;34m(filepath_or_buffer, kwds)\u001b[0m\n\u001b[1;32m    617\u001b[0m _validate_names(kwds\u001b[38;5;241m.\u001b[39mget(\u001b[38;5;124m\"\u001b[39m\u001b[38;5;124mnames\u001b[39m\u001b[38;5;124m\"\u001b[39m, \u001b[38;5;28;01mNone\u001b[39;00m))\n\u001b[1;32m    619\u001b[0m \u001b[38;5;66;03m# Create the parser.\u001b[39;00m\n\u001b[0;32m--> 620\u001b[0m parser \u001b[38;5;241m=\u001b[39m TextFileReader(filepath_or_buffer, \u001b[38;5;241m*\u001b[39m\u001b[38;5;241m*\u001b[39mkwds)\n\u001b[1;32m    622\u001b[0m \u001b[38;5;28;01mif\u001b[39;00m chunksize \u001b[38;5;129;01mor\u001b[39;00m iterator:\n\u001b[1;32m    623\u001b[0m     \u001b[38;5;28;01mreturn\u001b[39;00m parser\n",
      "File \u001b[0;32m~/anaconda3/lib/python3.11/site-packages/pandas/io/parsers/readers.py:1620\u001b[0m, in \u001b[0;36mTextFileReader.__init__\u001b[0;34m(self, f, engine, **kwds)\u001b[0m\n\u001b[1;32m   1617\u001b[0m     \u001b[38;5;28mself\u001b[39m\u001b[38;5;241m.\u001b[39moptions[\u001b[38;5;124m\"\u001b[39m\u001b[38;5;124mhas_index_names\u001b[39m\u001b[38;5;124m\"\u001b[39m] \u001b[38;5;241m=\u001b[39m kwds[\u001b[38;5;124m\"\u001b[39m\u001b[38;5;124mhas_index_names\u001b[39m\u001b[38;5;124m\"\u001b[39m]\n\u001b[1;32m   1619\u001b[0m \u001b[38;5;28mself\u001b[39m\u001b[38;5;241m.\u001b[39mhandles: IOHandles \u001b[38;5;241m|\u001b[39m \u001b[38;5;28;01mNone\u001b[39;00m \u001b[38;5;241m=\u001b[39m \u001b[38;5;28;01mNone\u001b[39;00m\n\u001b[0;32m-> 1620\u001b[0m \u001b[38;5;28mself\u001b[39m\u001b[38;5;241m.\u001b[39m_engine \u001b[38;5;241m=\u001b[39m \u001b[38;5;28mself\u001b[39m\u001b[38;5;241m.\u001b[39m_make_engine(f, \u001b[38;5;28mself\u001b[39m\u001b[38;5;241m.\u001b[39mengine)\n",
      "File \u001b[0;32m~/anaconda3/lib/python3.11/site-packages/pandas/io/parsers/readers.py:1898\u001b[0m, in \u001b[0;36mTextFileReader._make_engine\u001b[0;34m(self, f, engine)\u001b[0m\n\u001b[1;32m   1895\u001b[0m     \u001b[38;5;28;01mraise\u001b[39;00m \u001b[38;5;167;01mValueError\u001b[39;00m(msg)\n\u001b[1;32m   1897\u001b[0m \u001b[38;5;28;01mtry\u001b[39;00m:\n\u001b[0;32m-> 1898\u001b[0m     \u001b[38;5;28;01mreturn\u001b[39;00m mapping[engine](f, \u001b[38;5;241m*\u001b[39m\u001b[38;5;241m*\u001b[39m\u001b[38;5;28mself\u001b[39m\u001b[38;5;241m.\u001b[39moptions)\n\u001b[1;32m   1899\u001b[0m \u001b[38;5;28;01mexcept\u001b[39;00m \u001b[38;5;167;01mException\u001b[39;00m:\n\u001b[1;32m   1900\u001b[0m     \u001b[38;5;28;01mif\u001b[39;00m \u001b[38;5;28mself\u001b[39m\u001b[38;5;241m.\u001b[39mhandles \u001b[38;5;129;01mis\u001b[39;00m \u001b[38;5;129;01mnot\u001b[39;00m \u001b[38;5;28;01mNone\u001b[39;00m:\n",
      "File \u001b[0;32m~/anaconda3/lib/python3.11/site-packages/pandas/io/parsers/c_parser_wrapper.py:93\u001b[0m, in \u001b[0;36mCParserWrapper.__init__\u001b[0;34m(self, src, **kwds)\u001b[0m\n\u001b[1;32m     90\u001b[0m \u001b[38;5;28;01mif\u001b[39;00m kwds[\u001b[38;5;124m\"\u001b[39m\u001b[38;5;124mdtype_backend\u001b[39m\u001b[38;5;124m\"\u001b[39m] \u001b[38;5;241m==\u001b[39m \u001b[38;5;124m\"\u001b[39m\u001b[38;5;124mpyarrow\u001b[39m\u001b[38;5;124m\"\u001b[39m:\n\u001b[1;32m     91\u001b[0m     \u001b[38;5;66;03m# Fail here loudly instead of in cython after reading\u001b[39;00m\n\u001b[1;32m     92\u001b[0m     import_optional_dependency(\u001b[38;5;124m\"\u001b[39m\u001b[38;5;124mpyarrow\u001b[39m\u001b[38;5;124m\"\u001b[39m)\n\u001b[0;32m---> 93\u001b[0m \u001b[38;5;28mself\u001b[39m\u001b[38;5;241m.\u001b[39m_reader \u001b[38;5;241m=\u001b[39m parsers\u001b[38;5;241m.\u001b[39mTextReader(src, \u001b[38;5;241m*\u001b[39m\u001b[38;5;241m*\u001b[39mkwds)\n\u001b[1;32m     95\u001b[0m \u001b[38;5;28mself\u001b[39m\u001b[38;5;241m.\u001b[39munnamed_cols \u001b[38;5;241m=\u001b[39m \u001b[38;5;28mself\u001b[39m\u001b[38;5;241m.\u001b[39m_reader\u001b[38;5;241m.\u001b[39munnamed_cols\n\u001b[1;32m     97\u001b[0m \u001b[38;5;66;03m# error: Cannot determine type of 'names'\u001b[39;00m\n",
      "File \u001b[0;32mparsers.pyx:581\u001b[0m, in \u001b[0;36mpandas._libs.parsers.TextReader.__cinit__\u001b[0;34m()\u001b[0m\n",
      "\u001b[0;31mEmptyDataError\u001b[0m: No columns to parse from file"
     ]
    }
   ],
   "source": [
    "import pandas as pd\n",
    "\n",
    "# Load the CSV file\n",
    "data_file = \"hadith_data.csv\"\n",
    "df = pd.read_csv(data_file)\n",
    "\n",
    "# Extract the \"Hadith Text\" column\n",
    "hadith_texts = df[\"Hadith Text\"].dropna().tolist()\n",
    "\n",
    "\n"
   ]
  },
  {
   "cell_type": "code",
   "execution_count": 27,
   "metadata": {},
   "outputs": [
    {
     "name": "stdout",
     "output_type": "stream",
     "text": [
      "['Allah\\'s Messenger (ﷺ) said, \"While I was at Mecca the roof of my house was opened and Gabriel descended, \\nopened my chest, and washed it with Zamzam water. Then he brought a golden tray full of wisdom \\nand faith and having poured its contents into my chest, he closed it. Then he took my hand and \\nascended with me to the nearest heaven, when I reached the nearest heaven, Gabriel said to the \\ngatekeeper of the heaven, \\'Open (the gate).\\' The gatekeeper asked, \\'Who is it?\\' Gabriel answered: \\n\\'Gabriel.\\' He asked, \\'Is there anyone with you?\\' Gabriel replied, \\'Yes, Muhammad I is with me.\\' He \\nasked, \\'Has he been called?\\' Gabriel said, \\'Yes.\\' So the gate was opened and we went over the nearest \\nheaven and there we saw a man sitting with some people on his right and some on his left. When he \\nlooked towards his right, he laughed and when he looked toward his left he wept. Then he said, \\n\\'Welcome! O pious Prophet and pious son.\\' I asked Gabriel, \\'Who is he?\\' He replied, \\'He is Adam and', 'looked towards his right, he laughed and when he looked toward his left he wept. Then he said, \\n\\'Welcome! O pious Prophet and pious son.\\' I asked Gabriel, \\'Who is he?\\' He replied, \\'He is Adam and \\nthe people on his right and left are the souls of his offspring. Those on his right are the people of \\nParadise and those on his left are the people of Hell and when he looks towards his right he laughs and \\nwhen he looks towards his left he weeps.\\' \\nThen he ascended with me till he reached the second heaven and he (Gabriel) said to its gatekeeper, \\n\\'Open (the gate).\\' The gatekeeper said to him the same as the gatekeeper of the first heaven had said \\nand he opened the gate. Anas said: \"Abu Dhar added that the Prophet (ﷺ) met Adam, Idris, Moses, Jesus \\nand Abraham, he (Abu Dhar) did not mention on which heaven they were but he mentioned that he \\n(the Prophet (ﷺ) ) met Adam on the nearest heaven and Abraham on the sixth heaven. Anas said, \"When', 'and Abraham, he (Abu Dhar) did not mention on which heaven they were but he mentioned that he \\n(the Prophet (ﷺ) ) met Adam on the nearest heaven and Abraham on the sixth heaven. Anas said, \"When \\nGabriel along with the Prophet (ﷺ) passed by Idris, the latter said, \\'Welcome! O pious Prophet and pious \\nbrother.\\' The Prophet (ﷺ) asked, \\'Who is he?\\' Gabriel replied, \\'He is Idris.\" The Prophet (ﷺ) added, \"I passed \\nby Moses and he said, \\'Welcome! O pious Prophet and pious brother.\\' I asked Gabriel, \\'Who is he?\\' \\nGabriel replied, \\'He is Moses.\\' Then I passed by Jesus and he said, \\'Welcome! O pious brother and \\npious Prophet.\\' I asked, \\'Who is he?\\' Gabriel replied, \\'He is Jesus. \\nThen I passed by Abraham and he said, \\'Welcome! O pious Prophet and pious son.\\' I asked Gabriel, \\n\\'Who is he?\\' Gabriel replied, \\'He is Abraham. The Prophet (ﷺ) added, \\'Then Gabriel ascended with me to a \\nplace where I heard the creaking of the pens.\" Ibn Hazm and Anas bin Malik said: The Prophet (ﷺ) said,', 'place where I heard the creaking of the pens.\" Ibn Hazm and Anas bin Malik said: The Prophet (ﷺ) said, \\n\"Then Allah enjoined fifty prayers on my followers when I returned with this order of Allah, I passed \\nby Moses who asked me, \\'What has Allah enjoined on your followers?\\' I replied, \\'He has enjoined \\nfifty prayers on them.\\' Moses said, \\'Go back to your Lord (and appeal for reduction) for your followers \\nwill not be able to bear it.\\' (So I went back to Allah and requested for reduction) and He reduced it to \\nhalf. When I passed by Moses again and informed him about it, he said, \\'Go back to your Lord as your \\nfollowers will not be able to bear it.\\' So I returned to Allah and requested for further reduction and \\nhalf of it was reduced. I again passed by Moses and he said to me: \\'Return to your Lord, for your \\nfollowers will not be able to bear it. So I returned to Allah and He said, \\'These are five prayers and', 'followers will not be able to bear it. So I returned to Allah and He said, \\'These are five prayers and \\nthey are all (equal to) fifty (in reward) for My Word does not change.\\' I returned to Moses and he told \\nme to go back once again. I replied, \\'Now I feel shy of asking my Lord again.\\' Then Gabriel took me \\ntill we \\'\\' reached Sidrat-il-Muntaha (Lote tree of; the utmost boundary) which was shrouded in colors, \\nindescribable. Then I was admitted into Paradise where I found small (tents or) walls (made) of pearls \\nand its earth was of musk.\"']\n"
     ]
    }
   ],
   "source": [
    "from langchain.text_splitter import RecursiveCharacterTextSplitter\n",
    "\n",
    "# Initialize the text splitter\n",
    "text_splitter = RecursiveCharacterTextSplitter(chunk_size=1000, chunk_overlap=200)\n",
    "\n",
    "# Split each Hadith text into chunks\n",
    "final_documents = []\n",
    "for text in hadith_texts:\n",
    "    chunks = text_splitter.split_text(text)\n",
    "    final_documents.extend(chunks)\n",
    "\n",
    "# Each chunk is a part of the Hadith text\n",
    "print(final_documents[:5])  # Display the first 5 chunks\n"
   ]
  },
  {
   "cell_type": "code",
   "execution_count": null,
   "metadata": {},
   "outputs": [],
   "source": [
    "## Embedding Using Huggingface\n",
    "huggingface_embeddings=HuggingFaceBgeEmbeddings(\n",
    "    model_name=\"BAAI/bge-small-en-v1.5\",      #sentence-transformers/all-MiniLM-l6-v2\n",
    "    model_kwargs={'device':'cpu'},\n",
    "    encode_kwargs={'normalize_embeddings':True})\n",
    "\n",
    "# Example texts\n",
    "texts = [\"While I was at Mecca the roof of my house was opened...\",\n",
    "         \"Gabriel said to the gatekeeper of the heaven, 'Open (the gate).'\"]\n",
    "\n",
    "# Generate embeddings\n",
    "embeddings = huggingface_embeddings.embed_documents(texts)\n",
    "\n",
    "# Display the embeddings\n",
    "print(embeddings[0])  # Prints the embedding vector for the first text"
   ]
  },
  {
   "cell_type": "code",
   "execution_count": null,
   "metadata": {},
   "outputs": [],
   "source": []
  },
  {
   "cell_type": "code",
   "execution_count": null,
   "metadata": {},
   "outputs": [],
   "source": [
    "import pandas as pd\n",
    "data_file = \"hadith_data.csv\"\n",
    "df = pd.read_csv(data_file)\n"
   ]
  },
  {
   "cell_type": "markdown",
   "metadata": {},
   "source": []
  }
 ],
 "metadata": {
  "kernelspec": {
   "display_name": "base",
   "language": "python",
   "name": "python3"
  },
  "language_info": {
   "codemirror_mode": {
    "name": "ipython",
    "version": 3
   },
   "file_extension": ".py",
   "mimetype": "text/x-python",
   "name": "python",
   "nbconvert_exporter": "python",
   "pygments_lexer": "ipython3",
   "version": "3.11.5"
  }
 },
 "nbformat": 4,
 "nbformat_minor": 2
}
